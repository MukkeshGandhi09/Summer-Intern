{
  "nbformat": 4,
  "nbformat_minor": 0,
  "metadata": {
    "colab": {
      "name": "Cats and Dogs",
      "version": "0.3.2",
      "provenance": [],
      "collapsed_sections": []
    },
    "kernelspec": {
      "name": "python3",
      "display_name": "Python 3"
    }
  },
  "cells": [
    {
      "cell_type": "code",
      "metadata": {
        "id": "5Cbs0KUwSLEr",
        "colab_type": "code",
        "colab": {}
      },
      "source": [
        "import tensorflow as tf\n",
        "import numpy as np\n",
        "import cv2 \n",
        "import os "
      ],
      "execution_count": 0,
      "outputs": []
    },
    {
      "cell_type": "markdown",
      "metadata": {
        "id": "EHVPM-ygSZ_6",
        "colab_type": "text"
      },
      "source": [
        ":::Image Preprocessing :::"
      ]
    },
    {
      "cell_type": "code",
      "metadata": {
        "id": "4sYtEdYASYsD",
        "colab_type": "code",
        "colab": {}
      },
      "source": [
        "def image_resize(img):\n",
        "  width=100\n",
        "  length=100\n",
        "  dim=(width,length)\n",
        "  image=cv2.resize(img,dim,interpolation = cv2.INTER_AREA)\n",
        "  return image  "
      ],
      "execution_count": 0,
      "outputs": []
    },
    {
      "cell_type": "markdown",
      "metadata": {
        "id": "9DUV92y1TfzO",
        "colab_type": "text"
      },
      "source": [
        "::::Model Architecture Defintions:::"
      ]
    },
    {
      "cell_type": "code",
      "metadata": {
        "id": "MSgViFJpYHnN",
        "colab_type": "code",
        "colab": {}
      },
      "source": [
        "    def add_weights(self,shape):\n",
        "        return tf.Variable(tf.truncated_normal(shape=shape, stddev=0.05))\n",
        "\n",
        "    def add_biases(self,shape):\n",
        "        return tf.Variable(tf.constant(0.05, shape=shape))\n",
        "\n",
        "    def conv_layer(self,layer, kernel, input_shape, output_shape, stride_size):\n",
        "        weights = self.add_weights([kernel, kernel, input_shape, output_shape])\n",
        "        biases = self.add_biases([output_shape])\n",
        "        stride = [1, stride_size, stride_size, 1]\n",
        "        layer = tf.nn.conv2d(layer, weights, strides=stride, padding='SAME') + biases\n",
        "        return layer\n",
        "\n",
        "    def pooling_layer(self,layer, kernel_size, stride_size):\n",
        "        kernel = [1, kernel_size, kernel_size, 1]\n",
        "        stride = [1, stride_size, stride_size, 1]\n",
        "        return tf.nn.max_pool(layer, ksize=kernel, strides=stride, padding='SAME')\n",
        "\n",
        "    def flattening_layer(self,layer):\n",
        "        input_size = layer.get_shape().as_list()\n",
        "        new_size = input_size[-1] * input_size[-2] * input_size[-3]\n",
        "        return tf.reshape(layer, [-1, new_size]),new_size\n",
        "\n",
        "    def fully_connected_layer(self,layer, input_shape, output_shape):\n",
        "        weights = self.add_weights([input_shape, output_shape])\n",
        "        biases = self.add_biases([output_shape])\n",
        "        layer = tf.matmul(layer,weights) + biases  # mX+b\n",
        "        return layer\n",
        "\n",
        "    def activation_layer(self,layer):\n",
        "        return tf.nn.relu(layer)"
      ],
      "execution_count": 0,
      "outputs": []
    },
    {
      "cell_type": "markdown",
      "metadata": {
        "id": "mG5bIMgJYdpw",
        "colab_type": "text"
      },
      "source": [
        ":::MODEL ARCHITECTURE:::"
      ]
    },
    {
      "cell_type": "code",
      "metadata": {
        "id": "gi5IjfxiYc2f",
        "colab_type": "code",
        "colab": {}
      },
      "source": [
        "inputimage=tf.placeholder(tf.float32,size=[None,100,100,3],name=\"input_image\")\n",
        "output=tf.placeholder(tf.float32,size=[None,2])\n",
        "\n",
        "network=model.conv_layer(images_ph,5,3,16,1)\n",
        "network=model.pooling_layer(network,5,2)\n",
        "network=model.activation_layer(network)\n",
        "network=model.conv_layer(network,4,16,32,1)\n",
        "network=model.pooling_layer(network,4,2)\n",
        "network=model.activation_layer(network)\n",
        "#level 3 convolution\n",
        "network=model.conv_layer(network,3,32,64,1)\n",
        "network=model.pooling_layer(network,3,2)\n",
        "network=model.activation_layer(network)\n",
        "print(network)\n",
        "#flattening layer\n",
        "network,features=model.flattening_layer(network)\n",
        "print(network)\n",
        "#fully connected layer\n",
        "network=model.fully_connected_layer(network,features,1024)\n",
        "network=model.activation_layer(network)\n",
        "print(network)\n",
        "    #output layer\n",
        "network=model.fully_connected_layer(network,1024,number_of_classes)\n",
        "print(network)\n",
        "return network\n",
        "\n"
      ],
      "execution_count": 0,
      "outputs": []
    }
  ]
}